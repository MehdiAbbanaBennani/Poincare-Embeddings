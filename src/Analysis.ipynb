{
 "cells": [
  {
   "cell_type": "code",
   "execution_count": 1,
   "metadata": {},
   "outputs": [],
   "source": [
    "from embeddings import Embeddings"
   ]
  },
  {
   "cell_type": "code",
   "execution_count": 2,
   "metadata": {},
   "outputs": [],
   "source": [
    "directory = \"../logs/\" + \"May:19:2018:16:46:46\" + \"/\""
   ]
  },
  {
   "cell_type": "code",
   "execution_count": 3,
   "metadata": {},
   "outputs": [],
   "source": [
    "embeddings = Embeddings(directory=directory)"
   ]
  },
  {
   "cell_type": "code",
   "execution_count": 8,
   "metadata": {
    "scrolled": true
   },
   "outputs": [
    {
     "data": {
      "text/plain": [
       "['white-tailed_jackrabbit.n.01',\n",
       " 'white_rhinoceros.n.01',\n",
       " 'white-footed_mouse.n.01',\n",
       " 'pygmy_sperm_whale.n.01',\n",
       " 'beaked_whale.n.01',\n",
       " 'pilot_whale.n.01',\n",
       " 'sperm_whale.n.01',\n",
       " 'wheel_horse.n.01',\n",
       " 'blue_whale.n.01',\n",
       " 'sei_whale.n.01',\n",
       " 'grey_whale.n.01',\n",
       " 'white_whale.n.01',\n",
       " 'killer_whale.n.01',\n",
       " 'whirlaway.n.01',\n",
       " 'toothed_whale.n.01',\n",
       " 'baleen_whale.n.01',\n",
       " 'bowhead.n.01',\n",
       " 'white-lipped_peccary.n.01',\n",
       " 'white_elephant.n.02',\n",
       " 'narwhal.n.01',\n",
       " 'whippet.n.01',\n",
       " 'whale.n.02',\n",
       " 'white_wolf.n.01',\n",
       " 'west_highland_white_terrier.n.01',\n",
       " 'soft-coated_wheaten_terrier.n.01',\n",
       " 'whitetail_prairie_dog.n.01',\n",
       " 'right_whale.n.01',\n",
       " 'bottle-nosed_whale.n.01',\n",
       " 'dwarf_sperm_whale.n.01',\n",
       " 'wharf_rat.n.02']"
      ]
     },
     "execution_count": 8,
     "metadata": {},
     "output_type": "execute_result"
    }
   ],
   "source": [
    "embeddings.search_word(\"wh\")"
   ]
  },
  {
   "cell_type": "code",
   "execution_count": 5,
   "metadata": {},
   "outputs": [
    {
     "data": {
      "text/plain": [
       "0.6939835386136283"
      ]
     },
     "execution_count": 5,
     "metadata": {},
     "output_type": "execute_result"
    }
   ],
   "source": [
    "embeddings.norm('hearing_dog.n.01')"
   ]
  },
  {
   "cell_type": "code",
   "execution_count": 6,
   "metadata": {},
   "outputs": [
    {
     "data": {
      "text/plain": [
       "1.1054734858085027"
      ]
     },
     "execution_count": 6,
     "metadata": {},
     "output_type": "execute_result"
    }
   ],
   "source": [
    "embeddings.dist('hearing_dog.n.01', 'watchdog.n.02', type=\"poincare\")"
   ]
  },
  {
   "cell_type": "code",
   "execution_count": 9,
   "metadata": {},
   "outputs": [
    {
     "data": {
      "text/plain": [
       "12.427416237825707"
      ]
     },
     "execution_count": 9,
     "metadata": {},
     "output_type": "execute_result"
    }
   ],
   "source": [
    "embeddings.dist('hearing_dog.n.01', 'killer_whale.n.01', type=\"poincare\")"
   ]
  }
 ],
 "metadata": {
  "kernelspec": {
   "display_name": "Python [conda root]",
   "language": "python",
   "name": "conda-root-py"
  },
  "language_info": {
   "codemirror_mode": {
    "name": "ipython",
    "version": 3
   },
   "file_extension": ".py",
   "mimetype": "text/x-python",
   "name": "python",
   "nbconvert_exporter": "python",
   "pygments_lexer": "ipython3",
   "version": "3.5.2"
  }
 },
 "nbformat": 4,
 "nbformat_minor": 2
}
