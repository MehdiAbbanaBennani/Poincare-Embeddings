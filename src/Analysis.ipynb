{
 "cells": [
  {
   "cell_type": "code",
   "execution_count": 1,
   "metadata": {
    "collapsed": false
   },
   "outputs": [],
   "source": [
    "from embeddings import Embeddings\n",
    "import json\n",
    "import os"
   ]
  },
  {
   "cell_type": "code",
   "execution_count": 2,
   "metadata": {
    "collapsed": true
   },
   "outputs": [],
   "source": [
    "directory = \"../logs/\" + \"May-19-2018-16-46-46\" + \"/\"\n",
    "log_file = os.path.join(directory,'logs.json')"
   ]
  },
  {
   "cell_type": "code",
   "execution_count": 3,
   "metadata": {
    "collapsed": false
   },
   "outputs": [],
   "source": [
    "embeddings = Embeddings(directory=directory)"
   ]
  },
  {
   "cell_type": "code",
   "execution_count": 4,
   "metadata": {
    "collapsed": false
   },
   "outputs": [],
   "source": [
    "with open(log_file) as f:\n",
    "    data_str = json.load(f)\n",
    "    data = json.loads(data_str)"
   ]
  },
  {
   "cell_type": "code",
   "execution_count": 5,
   "metadata": {
    "collapsed": false
   },
   "outputs": [
    {
     "name": "stdout",
     "output_type": "stream",
     "text": [
      "[1, 2, 3, 4, 5, 6, 7, 8, 9, 10, 11, 12, 13, 14, 15, 16, 17, 18, 19, 20, 21, 22, 23, 24, 25]\n"
     ]
    },
    {
     "data": {
      "image/png": "[encoded data removed]",
      "text/plain": [
       "<matplotlib.figure.Figure at 0x107cee2b0>"
      ]
     },
     "metadata": {},
     "output_type": "display_data"
    }
   ],
   "source": [
    "import matplotlib.pyplot as plt\n",
    "epoch = data['epoch']\n",
    "loss = data['loss']\n",
    "\n",
    "xi = [i for i in range(0, len(epoch))]\n",
    "xi = [e+1 for e in xi]\n",
    "print(xi)\n",
    "plt.figure(figsize=(10,10))\n",
    "plt.step(xi, loss, color='b', linestyle='--')\n",
    "plt.xticks(xi, epoch)\n",
    "plt.ylabel('Loss')\n",
    "plt.xlabel('Epoch')\n",
    "plt.axvline(x=5, color = 'r')\n",
    "plt.grid(True)\n",
    "plt.show()"
   ]
  },
  {
   "cell_type": "markdown",
   "metadata": {},
   "source": [
    "# Expérience Malinois"
   ]
  },
  {
   "cell_type": "code",
   "execution_count": 6,
   "metadata": {
    "collapsed": false,
    "scrolled": true
   },
   "outputs": [
    {
     "data": {
      "text/plain": [
       "0.38959916901164504"
      ]
     },
     "execution_count": 6,
     "metadata": {},
     "output_type": "execute_result"
    }
   ],
   "source": [
    "embeddings.dist('malinois.n.01', 'belgian_sheepdog.n.01', type=\"poincare\")"
   ]
  },
  {
   "cell_type": "code",
   "execution_count": 7,
   "metadata": {
    "collapsed": false
   },
   "outputs": [
    {
     "data": {
      "text/plain": [
       "4.53708239470164"
      ]
     },
     "execution_count": 7,
     "metadata": {},
     "output_type": "execute_result"
    }
   ],
   "source": [
    "embeddings.dist('malinois.n.01', 'sea_cow.n.01', type=\"poincare\")"
   ]
  },
  {
   "cell_type": "code",
   "execution_count": 8,
   "metadata": {
    "collapsed": false,
    "scrolled": true
   },
   "outputs": [
    {
     "data": {
      "text/plain": [
       "['bottle-nosed_whale.n.01',\n",
       " 'whitetail_prairie_dog.n.01',\n",
       " 'white-footed_mouse.n.01',\n",
       " 'west_highland_white_terrier.n.01',\n",
       " 'wheel_horse.n.01',\n",
       " 'white-tailed_jackrabbit.n.01',\n",
       " 'white_wolf.n.01',\n",
       " 'soft-coated_wheaten_terrier.n.01',\n",
       " 'right_whale.n.01',\n",
       " 'blue_whale.n.01',\n",
       " 'grey_whale.n.01',\n",
       " 'wharf_rat.n.02',\n",
       " 'white_rhinoceros.n.01',\n",
       " 'bowhead.n.01',\n",
       " 'whippet.n.01',\n",
       " 'white_elephant.n.02',\n",
       " 'killer_whale.n.01',\n",
       " 'sperm_whale.n.01',\n",
       " 'narwhal.n.01',\n",
       " 'sei_whale.n.01',\n",
       " 'baleen_whale.n.01',\n",
       " 'whale.n.02',\n",
       " 'pygmy_sperm_whale.n.01',\n",
       " 'pilot_whale.n.01',\n",
       " 'toothed_whale.n.01',\n",
       " 'beaked_whale.n.01',\n",
       " 'white-lipped_peccary.n.01',\n",
       " 'dwarf_sperm_whale.n.01',\n",
       " 'whirlaway.n.01',\n",
       " 'white_whale.n.01']"
      ]
     },
     "execution_count": 8,
     "metadata": {},
     "output_type": "execute_result"
    }
   ],
   "source": [
    "embeddings.search_word(\"wh\")"
   ]
  },
  {
   "cell_type": "markdown",
   "metadata": {},
   "source": [
    "# Expérience sur les normes"
   ]
  },
  {
   "cell_type": "code",
   "execution_count": 9,
   "metadata": {
    "collapsed": false
   },
   "outputs": [
    {
     "name": "stdout",
     "output_type": "stream",
     "text": [
      "0.057099151795455196\n",
      "0.04258903632447418\n",
      "0.6567139014711089\n",
      "0.7980162880156297\n",
      "0.8773954569006239\n",
      "0.9999801572141991\n"
     ]
    }
   ],
   "source": [
    "print(embeddings.norm('placental.n.01'))\n",
    "print(embeddings.norm('mammal.n.01'))\n",
    "print(embeddings.norm('canine.n.02'))\n",
    "print(embeddings.norm('hunting_dog.n.01'))\n",
    "print(embeddings.norm('sea_cow.n.01'))\n",
    "print(embeddings.norm('white-tailed_jackrabbit.n.01'))"
   ]
  }
 ],
 "metadata": {
  "kernelspec": {
   "display_name": "Python 3",
   "language": "python",
   "name": "python3"
  },
  "language_info": {
   "codemirror_mode": {
    "name": "ipython",
    "version": 3
   },
   "file_extension": ".py",
   "mimetype": "text/x-python",
   "name": "python",
   "nbconvert_exporter": "python",
   "pygments_lexer": "ipython3",
   "version": "3.4.5"
  }
 },
 "nbformat": 4,
 "nbformat_minor": 2
}
