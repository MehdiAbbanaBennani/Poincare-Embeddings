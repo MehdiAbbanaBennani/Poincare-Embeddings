{
 "cells": [
  {
   "cell_type": "code",
   "execution_count": 24,
   "metadata": {
    "collapsed": true
   },
   "outputs": [],
   "source": [
    "import gensim\n",
    "import os\n",
    "import logging\n",
    "import numpy as np"
   ]
  },
  {
   "cell_type": "code",
   "execution_count": 25,
   "metadata": {
    "collapsed": false
   },
   "outputs": [
    {
     "name": "stdout",
     "output_type": "stream",
     "text": [
      "The autoreload extension is already loaded. To reload it, use:\n",
      "  %reload_ext autoreload\n"
     ]
    }
   ],
   "source": [
    "%load_ext autoreload   \n",
    "%autoreload 2"
   ]
  },
  {
   "cell_type": "code",
   "execution_count": 26,
   "metadata": {
    "collapsed": true
   },
   "outputs": [],
   "source": [
    "from gensim.models.poincare import PoincareModel, PoincareKeyedVectors, PoincareRelations\n",
    "\n",
    "logging.basicConfig(level=logging.INFO)\n",
    "\n",
    "poincare_directory = os.path.join(os.getcwd(),'gensim-develop','docs', 'notebooks', 'poincare')\n",
    "data_directory = os.path.join(poincare_directory, 'data')\n",
    "wordnet_mammal_file = os.path.join(data_directory, 'wordnet_mammal_hypernyms.tsv')"
   ]
  },
  {
   "cell_type": "code",
   "execution_count": 14,
   "metadata": {
    "collapsed": false
   },
   "outputs": [
    {
     "name": "stderr",
     "output_type": "stream",
     "text": [
      "INFO:gensim.models.poincare:Loading relations from train data..\n",
      "INFO:gensim.models.poincare:Loaded 7724 relations from train data, 1182 nodes\n"
     ]
    }
   ],
   "source": [
    "relations = PoincareRelations(file_path=wordnet_mammal_file, delimiter='\\t')\n",
    "model = PoincareModel(train_data=relations, burn_in= 0, negative=20, size= 30)"
   ]
  },
  {
   "cell_type": "code",
   "execution_count": 15,
   "metadata": {
    "collapsed": false
   },
   "outputs": [
    {
     "name": "stderr",
     "output_type": "stream",
     "text": [
      "INFO:gensim.models.poincare:training model of size 30 with 1 workers on 7724 relations for 50 epochs and 0 burn-in epochs, using lr=0.10000 burn-in lr=0.01000 negative=20\n",
      "INFO:gensim.models.poincare:Starting training (50 epochs)----------------------------------------\n",
      "INFO:gensim.models.poincare:Training finished\n"
     ]
    }
   ],
   "source": [
    "model.train(batch_size=10,epochs=50)"
   ]
  },
  {
   "cell_type": "markdown",
   "metadata": {},
   "source": [
    "# Code pour les différentes expériences"
   ]
  },
  {
   "cell_type": "code",
   "execution_count": 20,
   "metadata": {
    "collapsed": false
   },
   "outputs": [
    {
     "data": {
      "text/plain": [
       "9.446362252598307"
      ]
     },
     "execution_count": 20,
     "metadata": {},
     "output_type": "execute_result"
    }
   ],
   "source": [
    "model.kv.distance('malinois.n.01', 'sea_cow.n.01')"
   ]
  },
  {
   "cell_type": "code",
   "execution_count": 26,
   "metadata": {
    "collapsed": false
   },
   "outputs": [
    {
     "data": {
      "text/plain": [
       "10.859378432202107"
      ]
     },
     "execution_count": 26,
     "metadata": {},
     "output_type": "execute_result"
    }
   ],
   "source": [
    "model.kv.distance('malinois.n.01', 'raccoon_dog.n.01')"
   ]
  },
  {
   "cell_type": "code",
   "execution_count": 30,
   "metadata": {
    "collapsed": false
   },
   "outputs": [
    {
     "data": {
      "text/plain": [
       "10.419978471225553"
      ]
     },
     "execution_count": 30,
     "metadata": {},
     "output_type": "execute_result"
    }
   ],
   "source": [
    "model.kv.distance('malinois.n.01', 'lakeland_terrier.n.01')"
   ]
  },
  {
   "cell_type": "code",
   "execution_count": 29,
   "metadata": {
    "collapsed": false
   },
   "outputs": [
    {
     "data": {
      "text/plain": [
       "9.29969605882409"
      ]
     },
     "execution_count": 29,
     "metadata": {},
     "output_type": "execute_result"
    }
   ],
   "source": [
    "model.kv.distance('malinois.n.01', 'racehorse.n.01')"
   ]
  },
  {
   "cell_type": "code",
   "execution_count": 18,
   "metadata": {
    "collapsed": false
   },
   "outputs": [
    {
     "data": {
      "text/plain": [
       "[('mammal.n.01', 6.209924528551445),\n",
       " ('placental.n.01', 6.238787210921949),\n",
       " ('working_dog.n.01', 6.548102285272392),\n",
       " ('carnivore.n.01', 6.642522770920401),\n",
       " ('canine.n.02', 6.703955411357209),\n",
       " ('dog.n.01', 6.785739994701068),\n",
       " ('shepherd_dog.n.01', 6.964567361729449),\n",
       " ('belgian_sheepdog.n.01', 7.6006308365617885),\n",
       " ('ungulate.n.01', 7.754449809746677),\n",
       " ('hunting_dog.n.01', 7.818749067897898)]"
      ]
     },
     "execution_count": 18,
     "metadata": {},
     "output_type": "execute_result"
    }
   ],
   "source": [
    "model.kv.most_similar('malinois.n.01')"
   ]
  },
  {
   "cell_type": "code",
   "execution_count": 35,
   "metadata": {
    "collapsed": false
   },
   "outputs": [
    {
     "name": "stdout",
     "output_type": "stream",
     "text": [
      "0.05903926322826634\n",
      "0.041231292311324934\n",
      "0.9835994575692365\n"
     ]
    }
   ],
   "source": [
    "# Position in hierarchy - lower values represent that the node is higher in the hierarchy\n",
    "print(model.kv.norm('placental.n.01'))\n",
    "print(model.kv.norm('mammal.n.01'))\n",
    "print(model.kv.norm('sea_cow.n.01'))\n",
    "print(model.kv.norm('canine.n.02'))\n",
    "print(model.kv.norm('hunting_dog.n.01'))\n",
    "print(model.kv.norm('white-tailed_jackrabbit.n.01'))"
   ]
  }
 ],
 "metadata": {
  "kernelspec": {
   "display_name": "Python 3",
   "language": "python",
   "name": "python3"
  },
  "language_info": {
   "codemirror_mode": {
    "name": "ipython",
    "version": 3
   },
   "file_extension": ".py",
   "mimetype": "text/x-python",
   "name": "python",
   "nbconvert_exporter": "python",
   "pygments_lexer": "ipython3",
   "version": "3.4.5"
  }
 },
 "nbformat": 4,
 "nbformat_minor": 2
}
